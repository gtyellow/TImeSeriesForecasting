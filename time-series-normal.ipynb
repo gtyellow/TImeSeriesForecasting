{
 "cells": [
  {
   "cell_type": "code",
   "execution_count": 1,
   "id": "7f46f92e",
   "metadata": {
    "execution": {
     "iopub.execute_input": "2024-04-02T14:35:17.915158Z",
     "iopub.status.busy": "2024-04-02T14:35:17.914475Z",
     "iopub.status.idle": "2024-04-02T14:35:17.920205Z",
     "shell.execute_reply": "2024-04-02T14:35:17.919067Z"
    },
    "papermill": {
     "duration": 0.021698,
     "end_time": "2024-04-02T14:35:17.922749",
     "exception": false,
     "start_time": "2024-04-02T14:35:17.901051",
     "status": "completed"
    },
    "tags": []
   },
   "outputs": [],
   "source": [
    "#This is a notebook using the darts library for time series forecasting. \n",
    "#It uses the data from a kaggle competition\n",
    "#https://www.kaggle.com/competitions/store-sales-time-series-forecasting/data"
   ]
  },
  {
   "cell_type": "code",
   "execution_count": 2,
   "id": "07c15af0",
   "metadata": {
    "execution": {
     "iopub.execute_input": "2024-04-02T14:35:17.947869Z",
     "iopub.status.busy": "2024-04-02T14:35:17.947207Z",
     "iopub.status.idle": "2024-04-02T14:35:17.951552Z",
     "shell.execute_reply": "2024-04-02T14:35:17.950714Z"
    },
    "papermill": {
     "duration": 0.020291,
     "end_time": "2024-04-02T14:35:17.954704",
     "exception": false,
     "start_time": "2024-04-02T14:35:17.934413",
     "status": "completed"
    },
    "tags": []
   },
   "outputs": [],
   "source": [
    "#Version 4 - LGBMRegressor\n",
    "#Version 5 - XGBoost\n",
    "#Version 6 - LGBM Regressor removing January and December"
   ]
  },
  {
   "cell_type": "code",
   "execution_count": 3,
   "id": "57f258a0",
   "metadata": {
    "execution": {
     "iopub.execute_input": "2024-04-02T14:35:17.979223Z",
     "iopub.status.busy": "2024-04-02T14:35:17.978493Z",
     "iopub.status.idle": "2024-04-02T14:35:19.125774Z",
     "shell.execute_reply": "2024-04-02T14:35:19.123999Z"
    },
    "papermill": {
     "duration": 1.163083,
     "end_time": "2024-04-02T14:35:19.128781",
     "exception": false,
     "start_time": "2024-04-02T14:35:17.965698",
     "status": "completed"
    },
    "tags": []
   },
   "outputs": [],
   "source": [
    "import numpy as np # linear algebra\n",
    "import pandas as pd # data processing, CSV file I/O (e.g. pd.read_csv)\n",
    "\n",
    "\n",
    "import matplotlib.pyplot as plt"
   ]
  },
  {
   "cell_type": "code",
   "execution_count": 4,
   "id": "eca62391",
   "metadata": {
    "execution": {
     "iopub.execute_input": "2024-04-02T14:35:19.154815Z",
     "iopub.status.busy": "2024-04-02T14:35:19.154238Z",
     "iopub.status.idle": "2024-04-02T14:35:38.746057Z",
     "shell.execute_reply": "2024-04-02T14:35:38.744214Z"
    },
    "papermill": {
     "duration": 19.607385,
     "end_time": "2024-04-02T14:35:38.749194",
     "exception": false,
     "start_time": "2024-04-02T14:35:19.141809",
     "status": "completed"
    },
    "tags": []
   },
   "outputs": [
    {
     "name": "stderr",
     "output_type": "stream",
     "text": [
      "2024-04-02 14:35:25.222044: E external/local_xla/xla/stream_executor/cuda/cuda_dnn.cc:9261] Unable to register cuDNN factory: Attempting to register factory for plugin cuDNN when one has already been registered\n",
      "2024-04-02 14:35:25.222215: E external/local_xla/xla/stream_executor/cuda/cuda_fft.cc:607] Unable to register cuFFT factory: Attempting to register factory for plugin cuFFT when one has already been registered\n",
      "2024-04-02 14:35:25.409872: E external/local_xla/xla/stream_executor/cuda/cuda_blas.cc:1515] Unable to register cuBLAS factory: Attempting to register factory for plugin cuBLAS when one has already been registered\n"
     ]
    }
   ],
   "source": [
    "from sklearn.model_selection import train_test_split\n",
    "from sklearn.metrics import mean_absolute_percentage_error\n",
    "import lightgbm as lgb\n",
    "import xgboost as xgb\n",
    "from tensorflow.keras.models import Sequential\n",
    "from tensorflow.keras.layers import Dense\n",
    "from tensorflow.keras.optimizers import Adam\n"
   ]
  },
  {
   "cell_type": "code",
   "execution_count": 5,
   "id": "fe9a577a",
   "metadata": {
    "execution": {
     "iopub.execute_input": "2024-04-02T14:35:38.775141Z",
     "iopub.status.busy": "2024-04-02T14:35:38.774355Z",
     "iopub.status.idle": "2024-04-02T14:35:38.781592Z",
     "shell.execute_reply": "2024-04-02T14:35:38.780405Z"
    },
    "papermill": {
     "duration": 0.0231,
     "end_time": "2024-04-02T14:35:38.784760",
     "exception": false,
     "start_time": "2024-04-02T14:35:38.761660",
     "status": "completed"
    },
    "tags": []
   },
   "outputs": [],
   "source": [
    "\n",
    "from numpy import std\n",
    "from lightgbm import LGBMRegressor\n",
    "from sklearn.model_selection import cross_val_score\n",
    "from sklearn.model_selection import RepeatedKFold"
   ]
  },
  {
   "cell_type": "code",
   "execution_count": 6,
   "id": "285f9acf",
   "metadata": {
    "execution": {
     "iopub.execute_input": "2024-04-02T14:35:38.809323Z",
     "iopub.status.busy": "2024-04-02T14:35:38.808893Z",
     "iopub.status.idle": "2024-04-02T14:35:38.817888Z",
     "shell.execute_reply": "2024-04-02T14:35:38.816154Z"
    },
    "papermill": {
     "duration": 0.025307,
     "end_time": "2024-04-02T14:35:38.821678",
     "exception": false,
     "start_time": "2024-04-02T14:35:38.796371",
     "status": "completed"
    },
    "tags": []
   },
   "outputs": [
    {
     "name": "stdout",
     "output_type": "stream",
     "text": [
      "/kaggle/input/store-sales-time-series-forecasting/oil.csv\n",
      "/kaggle/input/store-sales-time-series-forecasting/sample_submission.csv\n",
      "/kaggle/input/store-sales-time-series-forecasting/holidays_events.csv\n",
      "/kaggle/input/store-sales-time-series-forecasting/stores.csv\n",
      "/kaggle/input/store-sales-time-series-forecasting/train.csv\n",
      "/kaggle/input/store-sales-time-series-forecasting/test.csv\n",
      "/kaggle/input/store-sales-time-series-forecasting/transactions.csv\n"
     ]
    }
   ],
   "source": [
    "#Load notebooks from Kaggle.  To find the notebook in Kaggle\n",
    "#Click File\n",
    "#Select Add input\n",
    "#Search for Store Sales - Time Series Forecasting\n",
    "#Hit the plus button to turn thhe circle with a white bkgrd and black cross\n",
    "    #to a button with a black bkgrd and white cross\n",
    "\n",
    "\n",
    "import os\n",
    "for dirname, _, filenames in os.walk('/kaggle/input'):\n",
    "    for filename in filenames:\n",
    "        print(os.path.join(dirname, filename))"
   ]
  },
  {
   "cell_type": "code",
   "execution_count": 7,
   "id": "a1714a4c",
   "metadata": {
    "execution": {
     "iopub.execute_input": "2024-04-02T14:35:38.850775Z",
     "iopub.status.busy": "2024-04-02T14:35:38.849816Z",
     "iopub.status.idle": "2024-04-02T14:35:43.531885Z",
     "shell.execute_reply": "2024-04-02T14:35:43.529605Z"
    },
    "papermill": {
     "duration": 4.701434,
     "end_time": "2024-04-02T14:35:43.536181",
     "exception": false,
     "start_time": "2024-04-02T14:35:38.834747",
     "status": "completed"
    },
    "tags": []
   },
   "outputs": [],
   "source": [
    "# Imported transactions.csv, train.csv, stores.csv, test.csv, oil.csv, holidays_events.csv\n",
    "transactions_df = pd.read_csv('/kaggle/input/store-sales-time-series-forecasting/transactions.csv')\n",
    "train_df = pd.read_csv('/kaggle/input/store-sales-time-series-forecasting/train.csv')\n",
    "stores_df = pd.read_csv('/kaggle/input/store-sales-time-series-forecasting/stores.csv')\n",
    "test_df = pd.read_csv('/kaggle/input/store-sales-time-series-forecasting/test.csv')\n",
    "oil_df = pd.read_csv('/kaggle/input/store-sales-time-series-forecasting/oil.csv')\n",
    "holidays_events_df = pd.read_csv('/kaggle/input/store-sales-time-series-forecasting/holidays_events.csv')\n"
   ]
  },
  {
   "cell_type": "code",
   "execution_count": 8,
   "id": "94e87c75",
   "metadata": {
    "execution": {
     "iopub.execute_input": "2024-04-02T14:35:43.566193Z",
     "iopub.status.busy": "2024-04-02T14:35:43.565478Z",
     "iopub.status.idle": "2024-04-02T14:35:44.077952Z",
     "shell.execute_reply": "2024-04-02T14:35:44.076394Z"
    },
    "papermill": {
     "duration": 0.530052,
     "end_time": "2024-04-02T14:35:44.081701",
     "exception": false,
     "start_time": "2024-04-02T14:35:43.551649",
     "status": "completed"
    },
    "tags": []
   },
   "outputs": [],
   "source": [
    "#Create List of dataframes so that we can ensure all date columns are in the correct format\n",
    "df_list=[transactions_df, train_df, test_df, oil_df, holidays_events_df]\n",
    "\n",
    "for df in df_list:\n",
    "    df['date'] = pd.to_datetime(df['date'])"
   ]
  },
  {
   "cell_type": "code",
   "execution_count": 9,
   "id": "6738d765",
   "metadata": {
    "execution": {
     "iopub.execute_input": "2024-04-02T14:35:44.110459Z",
     "iopub.status.busy": "2024-04-02T14:35:44.110013Z",
     "iopub.status.idle": "2024-04-02T14:35:44.139475Z",
     "shell.execute_reply": "2024-04-02T14:35:44.138217Z"
    },
    "papermill": {
     "duration": 0.049418,
     "end_time": "2024-04-02T14:35:44.142556",
     "exception": false,
     "start_time": "2024-04-02T14:35:44.093138",
     "status": "completed"
    },
    "tags": []
   },
   "outputs": [],
   "source": [
    "# Create a new DataFrame with all dates from Jan 1st, 2013, to Aug 31st, 2017\n",
    "all_dates = pd.date_range(start='2013-01-01', end='2017-08-31', freq='D')\n",
    "all_dates_df = pd.DataFrame({'date': all_dates})\n",
    "\n",
    "# Merge 'all_dates_df' with 'df_oil' to fill missing dates\n",
    "oil_df = pd.merge(all_dates_df, oil_df, on='date', how='left')\n",
    "\n",
    "oil_df.ffill(axis=0, inplace=True)\n",
    "oil_df.bfill(axis=0, inplace=True)"
   ]
  },
  {
   "cell_type": "code",
   "execution_count": 10,
   "id": "0af97c0d",
   "metadata": {
    "execution": {
     "iopub.execute_input": "2024-04-02T14:35:44.167609Z",
     "iopub.status.busy": "2024-04-02T14:35:44.167181Z",
     "iopub.status.idle": "2024-04-02T14:35:44.173041Z",
     "shell.execute_reply": "2024-04-02T14:35:44.171755Z"
    },
    "papermill": {
     "duration": 0.022093,
     "end_time": "2024-04-02T14:35:44.176255",
     "exception": false,
     "start_time": "2024-04-02T14:35:44.154162",
     "status": "completed"
    },
    "tags": []
   },
   "outputs": [],
   "source": [
    "#We are going to ignore the future warning for fillna\n",
    "\n",
    "import warnings\n",
    "warnings.filterwarnings(\"ignore\", category=FutureWarning)"
   ]
  },
  {
   "cell_type": "code",
   "execution_count": 11,
   "id": "ba249175",
   "metadata": {
    "execution": {
     "iopub.execute_input": "2024-04-02T14:35:44.203068Z",
     "iopub.status.busy": "2024-04-02T14:35:44.202652Z",
     "iopub.status.idle": "2024-04-02T14:35:46.499892Z",
     "shell.execute_reply": "2024-04-02T14:35:46.498222Z"
    },
    "papermill": {
     "duration": 2.314958,
     "end_time": "2024-04-02T14:35:46.503310",
     "exception": false,
     "start_time": "2024-04-02T14:35:44.188352",
     "status": "completed"
    },
    "tags": []
   },
   "outputs": [],
   "source": [
    "#Merge dataframes by date for training dataframe\n",
    "\n",
    "# Merge oil prices into the DataFrame\n",
    "df = train_df.merge(oil_df, on='date', how='left')\n",
    "\n",
    "# Merge national holidays information into the DataFrame\n",
    "df = df.merge(holidays_events_df[['date', 'transferred']], on='date', how='left')\n",
    "df['national_holiday'] = df['transferred'].fillna(False)\n",
    "df.drop(columns=['transferred'], inplace=True)\n",
    "\n",
    "# Add columns for day of the week, day of the month, day of the year, month, and year\n",
    "df['day_of_week'] = df['date'].dt.dayofweek  # Monday=0, Sunday=6\n",
    "df['day_of_month'] = df['date'].dt.day\n",
    "df['day_of_year'] = df['date'].dt.dayofyear\n",
    "df['month'] = df['date'].dt.month\n",
    "df['year'] = df['date'].dt.year\n",
    "\n",
    "train_df=df"
   ]
  },
  {
   "cell_type": "code",
   "execution_count": 12,
   "id": "4b1700b5",
   "metadata": {
    "execution": {
     "iopub.execute_input": "2024-04-02T14:35:46.530200Z",
     "iopub.status.busy": "2024-04-02T14:35:46.529703Z",
     "iopub.status.idle": "2024-04-02T14:35:46.565794Z",
     "shell.execute_reply": "2024-04-02T14:35:46.564259Z"
    },
    "papermill": {
     "duration": 0.053237,
     "end_time": "2024-04-02T14:35:46.568774",
     "exception": false,
     "start_time": "2024-04-02T14:35:46.515537",
     "status": "completed"
    },
    "tags": []
   },
   "outputs": [],
   "source": [
    "#Merge dataframes by date for test dataframe\n",
    "\n",
    "# Merge oil prices into the DataFrame\n",
    "df = test_df.merge(oil_df, on='date', how='left')\n",
    "\n",
    "# Merge national holidays information into the DataFrame\n",
    "df = df.merge(holidays_events_df[['date', 'transferred']], on='date', how='left')\n",
    "df['national_holiday'] = df['transferred'].fillna(False)\n",
    "df.drop(columns=['transferred'], inplace=True)\n",
    "\n",
    "# Add columns for day of the week, day of the month, day of the year, month, and year\n",
    "df['day_of_week'] = df['date'].dt.dayofweek  # Monday=0, Sunday=6\n",
    "df['day_of_month'] = df['date'].dt.day\n",
    "df['day_of_year'] = df['date'].dt.dayofyear\n",
    "df['month'] = df['date'].dt.month\n",
    "df['year'] = df['date'].dt.year\n",
    "\n",
    "test_df=df"
   ]
  },
  {
   "cell_type": "code",
   "execution_count": 13,
   "id": "e389693d",
   "metadata": {
    "execution": {
     "iopub.execute_input": "2024-04-02T14:35:46.595181Z",
     "iopub.status.busy": "2024-04-02T14:35:46.594746Z",
     "iopub.status.idle": "2024-04-02T14:35:46.973368Z",
     "shell.execute_reply": "2024-04-02T14:35:46.971788Z"
    },
    "papermill": {
     "duration": 0.395995,
     "end_time": "2024-04-02T14:35:46.976412",
     "exception": false,
     "start_time": "2024-04-02T14:35:46.580417",
     "status": "completed"
    },
    "tags": []
   },
   "outputs": [],
   "source": [
    "# Filter out rows with December and January\n",
    "train_df = train_df[~train_df['date'].dt.month.isin([12, 1])]"
   ]
  },
  {
   "cell_type": "code",
   "execution_count": 14,
   "id": "ca90d3cf",
   "metadata": {
    "execution": {
     "iopub.execute_input": "2024-04-02T14:35:47.005816Z",
     "iopub.status.busy": "2024-04-02T14:35:47.005385Z",
     "iopub.status.idle": "2024-04-02T14:49:34.821302Z",
     "shell.execute_reply": "2024-04-02T14:49:34.819900Z"
    },
    "papermill": {
     "duration": 827.834917,
     "end_time": "2024-04-02T14:49:34.824844",
     "exception": false,
     "start_time": "2024-04-02T14:35:46.989927",
     "status": "completed"
    },
    "tags": []
   },
   "outputs": [],
   "source": [
    "#PreProcess training df\n",
    "#Creating a dataframe for each store_nbr/family combination and storing it in the \n",
    "    #dfs_by_combination dictionary\n",
    "\n",
    "# Get unique combinations of store_nbr and family\n",
    "store_family_combinations = train_df[['store_nbr', 'family']].drop_duplicates()\n",
    "\n",
    "# Create a dictionary to store dataframes for each combination\n",
    "dfs_by_combination = {}\n",
    "\n",
    "# Iterate over each combination\n",
    "for index, row in store_family_combinations.iterrows():\n",
    "    store_nbr = row['store_nbr']\n",
    "    family = row['family']\n",
    "    \n",
    "    # Filter data for the current combination\n",
    "    df = train_df[(train_df['store_nbr'] == store_nbr) & (train_df['family'] == family)]\n",
    "    \n",
    "    # Store the dataframe in the dictionary\n",
    "    dfs_by_combination[(store_nbr, family)] = df"
   ]
  },
  {
   "cell_type": "code",
   "execution_count": 15,
   "id": "1eadf7eb",
   "metadata": {
    "execution": {
     "iopub.execute_input": "2024-04-02T14:49:34.850683Z",
     "iopub.status.busy": "2024-04-02T14:49:34.850238Z",
     "iopub.status.idle": "2024-04-02T14:49:34.857817Z",
     "shell.execute_reply": "2024-04-02T14:49:34.856581Z"
    },
    "papermill": {
     "duration": 0.023697,
     "end_time": "2024-04-02T14:49:34.860933",
     "exception": false,
     "start_time": "2024-04-02T14:49:34.837236",
     "status": "completed"
    },
    "tags": []
   },
   "outputs": [],
   "source": [
    "#Preprocessing train_df continued\n",
    "# Iterate over each key-value pair in dfs_by_combination\n",
    "for key, df in dfs_by_combination.items():\n",
    "\n",
    "    # Update the DataFrame in the dictionary\n",
    "    dfs_by_combination[key] = df"
   ]
  },
  {
   "cell_type": "code",
   "execution_count": 16,
   "id": "156deb95",
   "metadata": {
    "execution": {
     "iopub.execute_input": "2024-04-02T14:49:34.887297Z",
     "iopub.status.busy": "2024-04-02T14:49:34.886665Z",
     "iopub.status.idle": "2024-04-02T14:49:47.032542Z",
     "shell.execute_reply": "2024-04-02T14:49:47.030960Z"
    },
    "papermill": {
     "duration": 12.162975,
     "end_time": "2024-04-02T14:49:47.035526",
     "exception": false,
     "start_time": "2024-04-02T14:49:34.872551",
     "status": "completed"
    },
    "tags": []
   },
   "outputs": [],
   "source": [
    "#PreProcess testing df\n",
    "#Creating a dataframe for each store_nbr/family combination and storing it in the \n",
    "    #dfs_by_combination_test dictionary\n",
    "\n",
    "#We will use this to essentially run the model on each store number/family combination \n",
    "    #to predict\n",
    "\n",
    "# Get unique combinations of store_nbr and family\n",
    "store_family_combinations = test_df[['store_nbr', 'family']].drop_duplicates()\n",
    "\n",
    "# Create a dictionary to store dataframes for each combination\n",
    "dfs_by_combination_test = {}\n",
    "\n",
    "# Iterate over each combination\n",
    "for index, row in store_family_combinations.iterrows():\n",
    "    store_nbr = row['store_nbr']\n",
    "    family = row['family']\n",
    "    \n",
    "    # Filter data for the current combination\n",
    "    df = test_df[(test_df['store_nbr'] == store_nbr) & (test_df['family'] == family)]\n",
    "    \n",
    "    # Store the dataframe in the dictionary\n",
    "    dfs_by_combination_test[(store_nbr, family)] = df"
   ]
  },
  {
   "cell_type": "code",
   "execution_count": 17,
   "id": "ac3c0eee",
   "metadata": {
    "execution": {
     "iopub.execute_input": "2024-04-02T14:49:47.060763Z",
     "iopub.status.busy": "2024-04-02T14:49:47.060352Z",
     "iopub.status.idle": "2024-04-02T14:49:47.066312Z",
     "shell.execute_reply": "2024-04-02T14:49:47.065481Z"
    },
    "papermill": {
     "duration": 0.021473,
     "end_time": "2024-04-02T14:49:47.068435",
     "exception": false,
     "start_time": "2024-04-02T14:49:47.046962",
     "status": "completed"
    },
    "tags": []
   },
   "outputs": [],
   "source": [
    "#Preprocessing test_df continued\n",
    "# Iterate over each key-value pair in dfs_by_combination_test\n",
    "for key, df in dfs_by_combination_test.items():\n",
    "\n",
    "    # Update the DataFrame in the dictionary\n",
    "    dfs_by_combination_test[key] = df"
   ]
  },
  {
   "cell_type": "code",
   "execution_count": 18,
   "id": "2d0a45c7",
   "metadata": {
    "execution": {
     "iopub.execute_input": "2024-04-02T14:49:47.094823Z",
     "iopub.status.busy": "2024-04-02T14:49:47.094340Z",
     "iopub.status.idle": "2024-04-02T14:49:47.103683Z",
     "shell.execute_reply": "2024-04-02T14:49:47.102046Z"
    },
    "papermill": {
     "duration": 0.026562,
     "end_time": "2024-04-02T14:49:47.106156",
     "exception": false,
     "start_time": "2024-04-02T14:49:47.079594",
     "status": "completed"
    },
    "tags": []
   },
   "outputs": [],
   "source": [
    "#Calls a single dataframe within our dictionary of dataframes and breaks it into feature variables (X)\n",
    "#and target variable y which is sales.  It drops unimportant features like the id, store number and family.\n",
    "\n",
    "#We are doing this to determine the best model on a single dataframe to reduce processing time.\n",
    "#The assumption is that the model that predicts the best one or two dataframes will do a good job\n",
    "#Of predicting the other dataframes\n",
    "\n",
    "#This df was picked at random\n",
    "X = dfs_by_combination[(21, 'AUTOMOTIVE')].drop(columns=['sales','id', 'store_nbr','family'])\n",
    "y = dfs_by_combination[(27, 'AUTOMOTIVE')]['sales']"
   ]
  },
  {
   "cell_type": "code",
   "execution_count": 19,
   "id": "fe8a422d",
   "metadata": {
    "execution": {
     "iopub.execute_input": "2024-04-02T14:49:47.132317Z",
     "iopub.status.busy": "2024-04-02T14:49:47.131536Z",
     "iopub.status.idle": "2024-04-02T14:49:47.141847Z",
     "shell.execute_reply": "2024-04-02T14:49:47.140625Z"
    },
    "papermill": {
     "duration": 0.027463,
     "end_time": "2024-04-02T14:49:47.144909",
     "exception": false,
     "start_time": "2024-04-02T14:49:47.117446",
     "status": "completed"
    },
    "tags": []
   },
   "outputs": [],
   "source": [
    "# Split the data into training and testing sets\n",
    "X_train, X_val, y_train, y_val = train_test_split(X, y, test_size=0.2, random_state=42)"
   ]
  },
  {
   "cell_type": "code",
   "execution_count": 20,
   "id": "35d21eab",
   "metadata": {
    "execution": {
     "iopub.execute_input": "2024-04-02T14:49:47.169530Z",
     "iopub.status.busy": "2024-04-02T14:49:47.169083Z",
     "iopub.status.idle": "2024-04-02T14:49:47.175097Z",
     "shell.execute_reply": "2024-04-02T14:49:47.173711Z"
    },
    "papermill": {
     "duration": 0.021301,
     "end_time": "2024-04-02T14:49:47.177847",
     "exception": false,
     "start_time": "2024-04-02T14:49:47.156546",
     "status": "completed"
    },
    "tags": []
   },
   "outputs": [],
   "source": [
    "#To use MAPE, we can have no zero values for the true value.  \n",
    "#We will need to replace with a value close to zero to avoid division by zero error\n",
    "\n",
    "y_val=y_val.replace(0, .01)"
   ]
  },
  {
   "cell_type": "code",
   "execution_count": 21,
   "id": "32a9b0ec",
   "metadata": {
    "execution": {
     "iopub.execute_input": "2024-04-02T14:49:47.202384Z",
     "iopub.status.busy": "2024-04-02T14:49:47.201949Z",
     "iopub.status.idle": "2024-04-02T14:49:47.210821Z",
     "shell.execute_reply": "2024-04-02T14:49:47.209592Z"
    },
    "papermill": {
     "duration": 0.026147,
     "end_time": "2024-04-02T14:49:47.215205",
     "exception": false,
     "start_time": "2024-04-02T14:49:47.189058",
     "status": "completed"
    },
    "tags": []
   },
   "outputs": [],
   "source": [
    "#Dropping the date as it messes up the model and we have captured it with other features\n",
    "X_train_LGBM=X_train.drop(columns='date')\n",
    "#y_train_LGBM=y_train.drop(columns='date')\n",
    "\n",
    "X_val_LGBM=X_val.drop(columns='date')\n",
    "#y_val_LGBM=y_val.drop(columns='date')"
   ]
  },
  {
   "cell_type": "code",
   "execution_count": 22,
   "id": "fe2abef9",
   "metadata": {
    "execution": {
     "iopub.execute_input": "2024-04-02T14:49:47.241014Z",
     "iopub.status.busy": "2024-04-02T14:49:47.240314Z",
     "iopub.status.idle": "2024-04-02T14:49:47.246384Z",
     "shell.execute_reply": "2024-04-02T14:49:47.245438Z"
    },
    "papermill": {
     "duration": 0.021884,
     "end_time": "2024-04-02T14:49:47.248917",
     "exception": false,
     "start_time": "2024-04-02T14:49:47.227033",
     "status": "completed"
    },
    "tags": []
   },
   "outputs": [],
   "source": [
    "#Calls the model LGBMRegressor\n",
    "model = LGBMRegressor()\n",
    "cv = RepeatedKFold(n_splits=10, n_repeats=3, random_state=1)"
   ]
  },
  {
   "cell_type": "code",
   "execution_count": 23,
   "id": "a346ef3d",
   "metadata": {
    "execution": {
     "iopub.execute_input": "2024-04-02T14:49:47.273463Z",
     "iopub.status.busy": "2024-04-02T14:49:47.272826Z",
     "iopub.status.idle": "2024-04-02T14:49:47.650575Z",
     "shell.execute_reply": "2024-04-02T14:49:47.649239Z"
    },
    "papermill": {
     "duration": 0.393777,
     "end_time": "2024-04-02T14:49:47.653723",
     "exception": false,
     "start_time": "2024-04-02T14:49:47.259946",
     "status": "completed"
    },
    "tags": []
   },
   "outputs": [
    {
     "name": "stdout",
     "output_type": "stream",
     "text": [
      "[LightGBM] [Info] Auto-choosing col-wise multi-threading, the overhead of testing was 0.002879 seconds.\n",
      "You can set `force_col_wise=true` to remove the overhead.\n",
      "[LightGBM] [Info] Total Bins 560\n",
      "[LightGBM] [Info] Number of data points in the train set: 1147, number of used features: 7\n",
      "[LightGBM] [Info] Start training from score 4.808195\n"
     ]
    },
    {
     "data": {
      "text/html": [
       "<style>#sk-container-id-1 {color: black;background-color: white;}#sk-container-id-1 pre{padding: 0;}#sk-container-id-1 div.sk-toggleable {background-color: white;}#sk-container-id-1 label.sk-toggleable__label {cursor: pointer;display: block;width: 100%;margin-bottom: 0;padding: 0.3em;box-sizing: border-box;text-align: center;}#sk-container-id-1 label.sk-toggleable__label-arrow:before {content: \"▸\";float: left;margin-right: 0.25em;color: #696969;}#sk-container-id-1 label.sk-toggleable__label-arrow:hover:before {color: black;}#sk-container-id-1 div.sk-estimator:hover label.sk-toggleable__label-arrow:before {color: black;}#sk-container-id-1 div.sk-toggleable__content {max-height: 0;max-width: 0;overflow: hidden;text-align: left;background-color: #f0f8ff;}#sk-container-id-1 div.sk-toggleable__content pre {margin: 0.2em;color: black;border-radius: 0.25em;background-color: #f0f8ff;}#sk-container-id-1 input.sk-toggleable__control:checked~div.sk-toggleable__content {max-height: 200px;max-width: 100%;overflow: auto;}#sk-container-id-1 input.sk-toggleable__control:checked~label.sk-toggleable__label-arrow:before {content: \"▾\";}#sk-container-id-1 div.sk-estimator input.sk-toggleable__control:checked~label.sk-toggleable__label {background-color: #d4ebff;}#sk-container-id-1 div.sk-label input.sk-toggleable__control:checked~label.sk-toggleable__label {background-color: #d4ebff;}#sk-container-id-1 input.sk-hidden--visually {border: 0;clip: rect(1px 1px 1px 1px);clip: rect(1px, 1px, 1px, 1px);height: 1px;margin: -1px;overflow: hidden;padding: 0;position: absolute;width: 1px;}#sk-container-id-1 div.sk-estimator {font-family: monospace;background-color: #f0f8ff;border: 1px dotted black;border-radius: 0.25em;box-sizing: border-box;margin-bottom: 0.5em;}#sk-container-id-1 div.sk-estimator:hover {background-color: #d4ebff;}#sk-container-id-1 div.sk-parallel-item::after {content: \"\";width: 100%;border-bottom: 1px solid gray;flex-grow: 1;}#sk-container-id-1 div.sk-label:hover label.sk-toggleable__label {background-color: #d4ebff;}#sk-container-id-1 div.sk-serial::before {content: \"\";position: absolute;border-left: 1px solid gray;box-sizing: border-box;top: 0;bottom: 0;left: 50%;z-index: 0;}#sk-container-id-1 div.sk-serial {display: flex;flex-direction: column;align-items: center;background-color: white;padding-right: 0.2em;padding-left: 0.2em;position: relative;}#sk-container-id-1 div.sk-item {position: relative;z-index: 1;}#sk-container-id-1 div.sk-parallel {display: flex;align-items: stretch;justify-content: center;background-color: white;position: relative;}#sk-container-id-1 div.sk-item::before, #sk-container-id-1 div.sk-parallel-item::before {content: \"\";position: absolute;border-left: 1px solid gray;box-sizing: border-box;top: 0;bottom: 0;left: 50%;z-index: -1;}#sk-container-id-1 div.sk-parallel-item {display: flex;flex-direction: column;z-index: 1;position: relative;background-color: white;}#sk-container-id-1 div.sk-parallel-item:first-child::after {align-self: flex-end;width: 50%;}#sk-container-id-1 div.sk-parallel-item:last-child::after {align-self: flex-start;width: 50%;}#sk-container-id-1 div.sk-parallel-item:only-child::after {width: 0;}#sk-container-id-1 div.sk-dashed-wrapped {border: 1px dashed gray;margin: 0 0.4em 0.5em 0.4em;box-sizing: border-box;padding-bottom: 0.4em;background-color: white;}#sk-container-id-1 div.sk-label label {font-family: monospace;font-weight: bold;display: inline-block;line-height: 1.2em;}#sk-container-id-1 div.sk-label-container {text-align: center;}#sk-container-id-1 div.sk-container {/* jupyter's `normalize.less` sets `[hidden] { display: none; }` but bootstrap.min.css set `[hidden] { display: none !important; }` so we also need the `!important` here to be able to override the default hidden behavior on the sphinx rendered scikit-learn.org. See: https://github.com/scikit-learn/scikit-learn/issues/21755 */display: inline-block !important;position: relative;}#sk-container-id-1 div.sk-text-repr-fallback {display: none;}</style><div id=\"sk-container-id-1\" class=\"sk-top-container\"><div class=\"sk-text-repr-fallback\"><pre>LGBMRegressor()</pre><b>In a Jupyter environment, please rerun this cell to show the HTML representation or trust the notebook. <br />On GitHub, the HTML representation is unable to render, please try loading this page with nbviewer.org.</b></div><div class=\"sk-container\" hidden><div class=\"sk-item\"><div class=\"sk-estimator sk-toggleable\"><input class=\"sk-toggleable__control sk-hidden--visually\" id=\"sk-estimator-id-1\" type=\"checkbox\" checked><label for=\"sk-estimator-id-1\" class=\"sk-toggleable__label sk-toggleable__label-arrow\">LGBMRegressor</label><div class=\"sk-toggleable__content\"><pre>LGBMRegressor()</pre></div></div></div></div></div>"
      ],
      "text/plain": [
       "LGBMRegressor()"
      ]
     },
     "execution_count": 23,
     "metadata": {},
     "output_type": "execute_result"
    }
   ],
   "source": [
    "#Training the model on the training data from our one dataframe\n",
    "model.fit(X_train_LGBM, y_train)\n",
    "\n"
   ]
  },
  {
   "cell_type": "code",
   "execution_count": 24,
   "id": "f7d68372",
   "metadata": {
    "execution": {
     "iopub.execute_input": "2024-04-02T14:49:47.680667Z",
     "iopub.status.busy": "2024-04-02T14:49:47.680239Z",
     "iopub.status.idle": "2024-04-02T14:49:47.695009Z",
     "shell.execute_reply": "2024-04-02T14:49:47.693538Z"
    },
    "papermill": {
     "duration": 0.031169,
     "end_time": "2024-04-02T14:49:47.697750",
     "exception": false,
     "start_time": "2024-04-02T14:49:47.666581",
     "status": "completed"
    },
    "tags": []
   },
   "outputs": [
    {
     "name": "stdout",
     "output_type": "stream",
     "text": [
      "13.224416165297145\n"
     ]
    }
   ],
   "source": [
    "#Using the trained model to predict and scoring with MAPE\n",
    "y_pred = model.predict(X_val_LGBM)\n",
    "\n",
    "print(mean_absolute_percentage_error(y_val, y_pred))\n",
    "\n"
   ]
  },
  {
   "cell_type": "code",
   "execution_count": 25,
   "id": "afc0f0d6",
   "metadata": {
    "execution": {
     "iopub.execute_input": "2024-04-02T14:49:47.725769Z",
     "iopub.status.busy": "2024-04-02T14:49:47.725332Z",
     "iopub.status.idle": "2024-04-02T14:49:47.894319Z",
     "shell.execute_reply": "2024-04-02T14:49:47.892629Z"
    },
    "papermill": {
     "duration": 0.18731,
     "end_time": "2024-04-02T14:49:47.897479",
     "exception": false,
     "start_time": "2024-04-02T14:49:47.710169",
     "status": "completed"
    },
    "tags": []
   },
   "outputs": [
    {
     "name": "stdout",
     "output_type": "stream",
     "text": [
      "14.208904855696282\n"
     ]
    }
   ],
   "source": [
    "#We will do the same steps for XGBRegressor.  We can use the same data we used as LGBM\n",
    "model2=xgb.XGBRegressor()\n",
    "model2.fit(X_train_LGBM, y_train)\n",
    "\n",
    "y_pred = model2.predict(X_val_LGBM)\n",
    "\n",
    "print(mean_absolute_percentage_error(y_val, y_pred))\n"
   ]
  },
  {
   "cell_type": "code",
   "execution_count": 26,
   "id": "fa0e33e2",
   "metadata": {
    "execution": {
     "iopub.execute_input": "2024-04-02T14:49:47.923955Z",
     "iopub.status.busy": "2024-04-02T14:49:47.923573Z",
     "iopub.status.idle": "2024-04-02T14:49:47.934677Z",
     "shell.execute_reply": "2024-04-02T14:49:47.933399Z"
    },
    "papermill": {
     "duration": 0.027327,
     "end_time": "2024-04-02T14:49:47.937121",
     "exception": false,
     "start_time": "2024-04-02T14:49:47.909794",
     "status": "completed"
    },
    "tags": []
   },
   "outputs": [],
   "source": [
    "#The inputs need to be slightly manipulated to work with the model\n",
    "\n",
    "X_nn = X_train.drop(columns = ['date'])\n",
    "X_nn['national_holiday'] = np.multiply(X_nn['national_holiday'], 1)\n",
    "\n",
    "X_val_nn = X_val.drop(columns = ['date'])\n",
    "X_val_nn['national_holiday'] = np.multiply(X_val_nn['national_holiday'], 1)\n",
    "\n",
    "y_val_nn=y_val.drop(columns='date')\n",
    "\n"
   ]
  },
  {
   "cell_type": "code",
   "execution_count": 27,
   "id": "fab85976",
   "metadata": {
    "execution": {
     "iopub.execute_input": "2024-04-02T14:49:47.964110Z",
     "iopub.status.busy": "2024-04-02T14:49:47.963657Z",
     "iopub.status.idle": "2024-04-02T14:49:59.409228Z",
     "shell.execute_reply": "2024-04-02T14:49:59.407254Z"
    },
    "papermill": {
     "duration": 11.463242,
     "end_time": "2024-04-02T14:49:59.412128",
     "exception": false,
     "start_time": "2024-04-02T14:49:47.948886",
     "status": "completed"
    },
    "tags": []
   },
   "outputs": [
    {
     "name": "stdout",
     "output_type": "stream",
     "text": [
      "Epoch 1/15\n"
     ]
    },
    {
     "name": "stderr",
     "output_type": "stream",
     "text": [
      "/opt/conda/lib/python3.10/site-packages/keras/src/layers/core/dense.py:85: UserWarning: Do not pass an `input_shape`/`input_dim` argument to a layer. When using Sequential models, prefer using an `Input(shape)` object as the first layer in the model instead.\n",
      "  super().__init__(activity_regularizer=activity_regularizer, **kwargs)\n"
     ]
    },
    {
     "name": "stdout",
     "output_type": "stream",
     "text": [
      "\u001b[1m287/287\u001b[0m \u001b[32m━━━━━━━━━━━━━━━━━━━━\u001b[0m\u001b[37m\u001b[0m \u001b[1m2s\u001b[0m 2ms/step - loss: 1217.3639\n",
      "Epoch 2/15\n",
      "\u001b[1m287/287\u001b[0m \u001b[32m━━━━━━━━━━━━━━━━━━━━\u001b[0m\u001b[37m\u001b[0m \u001b[1m1s\u001b[0m 1ms/step - loss: 19.6008\n",
      "Epoch 3/15\n",
      "\u001b[1m287/287\u001b[0m \u001b[32m━━━━━━━━━━━━━━━━━━━━\u001b[0m\u001b[37m\u001b[0m \u001b[1m1s\u001b[0m 2ms/step - loss: 22.8760\n",
      "Epoch 4/15\n",
      "\u001b[1m287/287\u001b[0m \u001b[32m━━━━━━━━━━━━━━━━━━━━\u001b[0m\u001b[37m\u001b[0m \u001b[1m1s\u001b[0m 2ms/step - loss: 20.5996\n",
      "Epoch 5/15\n",
      "\u001b[1m287/287\u001b[0m \u001b[32m━━━━━━━━━━━━━━━━━━━━\u001b[0m\u001b[37m\u001b[0m \u001b[1m1s\u001b[0m 2ms/step - loss: 19.2302\n",
      "Epoch 6/15\n",
      "\u001b[1m287/287\u001b[0m \u001b[32m━━━━━━━━━━━━━━━━━━━━\u001b[0m\u001b[37m\u001b[0m \u001b[1m1s\u001b[0m 2ms/step - loss: 19.9301\n",
      "Epoch 7/15\n",
      "\u001b[1m287/287\u001b[0m \u001b[32m━━━━━━━━━━━━━━━━━━━━\u001b[0m\u001b[37m\u001b[0m \u001b[1m1s\u001b[0m 2ms/step - loss: 25.0521\n",
      "Epoch 8/15\n",
      "\u001b[1m287/287\u001b[0m \u001b[32m━━━━━━━━━━━━━━━━━━━━\u001b[0m\u001b[37m\u001b[0m \u001b[1m1s\u001b[0m 2ms/step - loss: 17.5046\n",
      "Epoch 9/15\n",
      "\u001b[1m287/287\u001b[0m \u001b[32m━━━━━━━━━━━━━━━━━━━━\u001b[0m\u001b[37m\u001b[0m \u001b[1m1s\u001b[0m 2ms/step - loss: 26.0598\n",
      "Epoch 10/15\n",
      "\u001b[1m287/287\u001b[0m \u001b[32m━━━━━━━━━━━━━━━━━━━━\u001b[0m\u001b[37m\u001b[0m \u001b[1m1s\u001b[0m 2ms/step - loss: 27.1741\n",
      "Epoch 11/15\n",
      "\u001b[1m287/287\u001b[0m \u001b[32m━━━━━━━━━━━━━━━━━━━━\u001b[0m\u001b[37m\u001b[0m \u001b[1m1s\u001b[0m 2ms/step - loss: 21.1137\n",
      "Epoch 12/15\n",
      "\u001b[1m287/287\u001b[0m \u001b[32m━━━━━━━━━━━━━━━━━━━━\u001b[0m\u001b[37m\u001b[0m \u001b[1m1s\u001b[0m 1ms/step - loss: 25.8163\n",
      "Epoch 13/15\n",
      "\u001b[1m287/287\u001b[0m \u001b[32m━━━━━━━━━━━━━━━━━━━━\u001b[0m\u001b[37m\u001b[0m \u001b[1m1s\u001b[0m 1ms/step - loss: 20.7011\n",
      "Epoch 14/15\n",
      "\u001b[1m287/287\u001b[0m \u001b[32m━━━━━━━━━━━━━━━━━━━━\u001b[0m\u001b[37m\u001b[0m \u001b[1m1s\u001b[0m 2ms/step - loss: 17.6865\n",
      "Epoch 15/15\n",
      "\u001b[1m287/287\u001b[0m \u001b[32m━━━━━━━━━━━━━━━━━━━━\u001b[0m\u001b[37m\u001b[0m \u001b[1m1s\u001b[0m 2ms/step - loss: 28.8791\n"
     ]
    },
    {
     "data": {
      "text/plain": [
       "<keras.src.callbacks.history.History at 0x7ed5b8647b50>"
      ]
     },
     "execution_count": 27,
     "metadata": {},
     "output_type": "execute_result"
    }
   ],
   "source": [
    "#Now constructing a neural network to do predictions\n",
    "\n",
    "import tensorflow as tf\n",
    "from tensorflow.keras.models import Sequential\n",
    "from tensorflow.keras.layers import Dense\n",
    "\n",
    "# Define the model architecture\n",
    "model3 = Sequential([\n",
    "    Dense(64, activation='relu', input_shape=(8,)),  # Input layer with 8 features\n",
    "    Dense(64, activation='relu'),  # Hidden layer with 64 neurons and ReLU activation\n",
    "    Dense(1)  # Output layer with 1 neuron (for regression task)\n",
    "])\n",
    "\n",
    "# Compile the model\n",
    "model3.compile(optimizer='adam', loss='mean_squared_error')\n",
    "\n",
    "# Train the model\n",
    "model3.fit(X_nn, y_train, epochs=15, batch_size=4)  # Adjust epochs and batch_size as needed\n"
   ]
  },
  {
   "cell_type": "code",
   "execution_count": 28,
   "id": "7378bb9f",
   "metadata": {
    "execution": {
     "iopub.execute_input": "2024-04-02T14:49:59.474046Z",
     "iopub.status.busy": "2024-04-02T14:49:59.473622Z",
     "iopub.status.idle": "2024-04-02T14:49:59.708726Z",
     "shell.execute_reply": "2024-04-02T14:49:59.706621Z"
    },
    "papermill": {
     "duration": 0.272228,
     "end_time": "2024-04-02T14:49:59.712305",
     "exception": false,
     "start_time": "2024-04-02T14:49:59.440077",
     "status": "completed"
    },
    "tags": []
   },
   "outputs": [
    {
     "name": "stdout",
     "output_type": "stream",
     "text": [
      "\u001b[1m9/9\u001b[0m \u001b[32m━━━━━━━━━━━━━━━━━━━━\u001b[0m\u001b[37m\u001b[0m \u001b[1m0s\u001b[0m 7ms/step\n",
      "26.771276524367188\n"
     ]
    }
   ],
   "source": [
    "#Predicting based on neural network model\n",
    "\n",
    "y_pred = model3.predict(X_val_nn)\n",
    "\n",
    "y_pred = y_pred.reshape(-1) # reshape array from (343, 1) to (343, ) to use the mape function\n",
    "\n",
    "print(mean_absolute_percentage_error(y_val_nn, y_pred))\n"
   ]
  },
  {
   "cell_type": "code",
   "execution_count": 29,
   "id": "10d4fb4a",
   "metadata": {
    "execution": {
     "iopub.execute_input": "2024-04-02T14:49:59.773635Z",
     "iopub.status.busy": "2024-04-02T14:49:59.773206Z",
     "iopub.status.idle": "2024-04-02T14:51:50.846313Z",
     "shell.execute_reply": "2024-04-02T14:51:50.844575Z"
    },
    "papermill": {
     "duration": 111.106868,
     "end_time": "2024-04-02T14:51:50.850255",
     "exception": false,
     "start_time": "2024-04-02T14:49:59.743387",
     "status": "completed"
    },
    "tags": []
   },
   "outputs": [],
   "source": [
    "#Now that we have picked a model and features based on one store_nbr, family combination\n",
    "#We will fit that model to every store_nbr, family combination and make a prediction\n",
    "\n",
    "#This is the model we are using.  Verbose set to -1 removes a number of warnings and other unneeded info\n",
    "model_LGBM = LGBMRegressor(verbose=-1)\n",
    "#model_XGB = xgb.XGBRegressor()\n",
    "\n",
    "\n",
    "#Construct an empty dataframe. We will fill this with predictions from each store_nbr, family combination\n",
    "y_combined_full=pd.DataFrame()\n",
    "\n",
    "#Loop through all the store_nbr, family combinations in the test dataset\n",
    "for key, family in dfs_by_combination_test:\n",
    "    \n",
    "    #Split the training dataset into X and Y on the store_nbr, family combination\n",
    "    X_train = dfs_by_combination[(key, family)].drop(columns=['date', 'id', 'store_nbr','family', 'sales'])\n",
    "    y_train = dfs_by_combination[(key, family)]['sales']\n",
    "    \n",
    "    #Train the model on the store_nbr, family combination\n",
    "    model_LGBM.fit(X_train, y_train)\n",
    "    \n",
    "    #We need the features from the Test dataset\n",
    "    X_test = dfs_by_combination_test[(key, family)].drop(columns=['date', 'id', 'store_nbr','family'])\n",
    "\n",
    "    #This generates a list of ids for the final dataframe\n",
    "    ids = dfs_by_combination_test[(key, family)]['id']\n",
    "    \n",
    "    #Predictions using the model for the store_nbr, family combination\n",
    "    y_pred = pd.DataFrame(model_LGBM.predict(X_test), columns=['sales'])\n",
    "    y_pred = y_pred.values.reshape(-1)\n",
    "\n",
    "    #This is the id to predicted sales for this store_nbr, family combination\n",
    "    y_combined= pd.DataFrame({'id': ids, 'sales': list(y_pred)}, columns=['id', 'sales'])\n",
    "\n",
    "    #This adds the dataframe we just created to the store_nbr, family combination\n",
    "    #At the end of the loop we will have a dataframe for id and sales for all\n",
    "    #store_nbr, family combinations\n",
    "    y_combined_full = pd.concat([y_combined_full, y_combined], axis=0)\n",
    "\n",
    "    "
   ]
  },
  {
   "cell_type": "code",
   "execution_count": 30,
   "id": "687475ca",
   "metadata": {
    "execution": {
     "iopub.execute_input": "2024-04-02T14:51:50.915117Z",
     "iopub.status.busy": "2024-04-02T14:51:50.914698Z",
     "iopub.status.idle": "2024-04-02T14:51:50.922170Z",
     "shell.execute_reply": "2024-04-02T14:51:50.920360Z"
    },
    "papermill": {
     "duration": 0.04353,
     "end_time": "2024-04-02T14:51:50.925664",
     "exception": false,
     "start_time": "2024-04-02T14:51:50.882134",
     "status": "completed"
    },
    "tags": []
   },
   "outputs": [],
   "source": [
    "#This removes the index created by the loop and sets it to the id from the test dataset\n",
    "y_combined_full.set_index('id', inplace=True)"
   ]
  },
  {
   "cell_type": "code",
   "execution_count": 31,
   "id": "c600faf1",
   "metadata": {
    "execution": {
     "iopub.execute_input": "2024-04-02T14:51:50.988315Z",
     "iopub.status.busy": "2024-04-02T14:51:50.987915Z",
     "iopub.status.idle": "2024-04-02T14:51:51.011606Z",
     "shell.execute_reply": "2024-04-02T14:51:51.010641Z"
    },
    "papermill": {
     "duration": 0.058975,
     "end_time": "2024-04-02T14:51:51.015231",
     "exception": false,
     "start_time": "2024-04-02T14:51:50.956256",
     "status": "completed"
    },
    "tags": []
   },
   "outputs": [
    {
     "data": {
      "text/html": [
       "<div>\n",
       "<style scoped>\n",
       "    .dataframe tbody tr th:only-of-type {\n",
       "        vertical-align: middle;\n",
       "    }\n",
       "\n",
       "    .dataframe tbody tr th {\n",
       "        vertical-align: top;\n",
       "    }\n",
       "\n",
       "    .dataframe thead th {\n",
       "        text-align: right;\n",
       "    }\n",
       "</style>\n",
       "<table border=\"1\" class=\"dataframe\">\n",
       "  <thead>\n",
       "    <tr style=\"text-align: right;\">\n",
       "      <th></th>\n",
       "      <th>sales</th>\n",
       "    </tr>\n",
       "    <tr>\n",
       "      <th>id</th>\n",
       "      <th></th>\n",
       "    </tr>\n",
       "  </thead>\n",
       "  <tbody>\n",
       "    <tr>\n",
       "      <th>3000888</th>\n",
       "      <td>4.671359</td>\n",
       "    </tr>\n",
       "    <tr>\n",
       "      <th>3000889</th>\n",
       "      <td>0.000000</td>\n",
       "    </tr>\n",
       "    <tr>\n",
       "      <th>3000890</th>\n",
       "      <td>5.400940</td>\n",
       "    </tr>\n",
       "    <tr>\n",
       "      <th>3000891</th>\n",
       "      <td>2486.062196</td>\n",
       "    </tr>\n",
       "    <tr>\n",
       "      <th>3000892</th>\n",
       "      <td>0.406353</td>\n",
       "    </tr>\n",
       "    <tr>\n",
       "      <th>...</th>\n",
       "      <td>...</td>\n",
       "    </tr>\n",
       "    <tr>\n",
       "      <th>3029395</th>\n",
       "      <td>383.212233</td>\n",
       "    </tr>\n",
       "    <tr>\n",
       "      <th>3029396</th>\n",
       "      <td>87.022945</td>\n",
       "    </tr>\n",
       "    <tr>\n",
       "      <th>3029397</th>\n",
       "      <td>1233.014012</td>\n",
       "    </tr>\n",
       "    <tr>\n",
       "      <th>3029398</th>\n",
       "      <td>70.428709</td>\n",
       "    </tr>\n",
       "    <tr>\n",
       "      <th>3029399</th>\n",
       "      <td>13.255953</td>\n",
       "    </tr>\n",
       "  </tbody>\n",
       "</table>\n",
       "<p>28512 rows × 1 columns</p>\n",
       "</div>"
      ],
      "text/plain": [
       "               sales\n",
       "id                  \n",
       "3000888     4.671359\n",
       "3000889     0.000000\n",
       "3000890     5.400940\n",
       "3000891  2486.062196\n",
       "3000892     0.406353\n",
       "...              ...\n",
       "3029395   383.212233\n",
       "3029396    87.022945\n",
       "3029397  1233.014012\n",
       "3029398    70.428709\n",
       "3029399    13.255953\n",
       "\n",
       "[28512 rows x 1 columns]"
      ]
     },
     "execution_count": 31,
     "metadata": {},
     "output_type": "execute_result"
    }
   ],
   "source": [
    "#Sorts the ids \n",
    "y_combined_full.sort_index()"
   ]
  },
  {
   "cell_type": "code",
   "execution_count": 32,
   "id": "584bf04d",
   "metadata": {
    "execution": {
     "iopub.execute_input": "2024-04-02T14:51:51.080286Z",
     "iopub.status.busy": "2024-04-02T14:51:51.078877Z",
     "iopub.status.idle": "2024-04-02T14:51:51.180194Z",
     "shell.execute_reply": "2024-04-02T14:51:51.179163Z"
    },
    "papermill": {
     "duration": 0.13723,
     "end_time": "2024-04-02T14:51:51.183592",
     "exception": false,
     "start_time": "2024-04-02T14:51:51.046362",
     "status": "completed"
    },
    "tags": []
   },
   "outputs": [],
   "source": [
    "#Converts the dataframe to CSV file for submission to contest\n",
    "y_combined_full.to_csv('submission.csv',index=True)"
   ]
  },
  {
   "cell_type": "code",
   "execution_count": null,
   "id": "6e279926",
   "metadata": {
    "papermill": {
     "duration": 0.028607,
     "end_time": "2024-04-02T14:51:51.243069",
     "exception": false,
     "start_time": "2024-04-02T14:51:51.214462",
     "status": "completed"
    },
    "tags": []
   },
   "outputs": [],
   "source": []
  }
 ],
 "metadata": {
  "kaggle": {
   "accelerator": "none",
   "dataSources": [
    {
     "databundleVersionId": 2887556,
     "sourceId": 29781,
     "sourceType": "competition"
    }
   ],
   "dockerImageVersionId": 30673,
   "isGpuEnabled": false,
   "isInternetEnabled": true,
   "language": "python",
   "sourceType": "notebook"
  },
  "kernelspec": {
   "display_name": "Python 3",
   "language": "python",
   "name": "python3"
  },
  "language_info": {
   "codemirror_mode": {
    "name": "ipython",
    "version": 3
   },
   "file_extension": ".py",
   "mimetype": "text/x-python",
   "name": "python",
   "nbconvert_exporter": "python",
   "pygments_lexer": "ipython3",
   "version": "3.10.13"
  },
  "papermill": {
   "default_parameters": {},
   "duration": 999.87219,
   "end_time": "2024-04-02T14:51:54.290003",
   "environment_variables": {},
   "exception": null,
   "input_path": "__notebook__.ipynb",
   "output_path": "__notebook__.ipynb",
   "parameters": {},
   "start_time": "2024-04-02T14:35:14.417813",
   "version": "2.5.0"
  }
 },
 "nbformat": 4,
 "nbformat_minor": 5
}
